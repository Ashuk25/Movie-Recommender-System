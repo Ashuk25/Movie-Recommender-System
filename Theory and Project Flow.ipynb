{
 "cells": [
  {
   "cell_type": "markdown",
   "id": "d98974be",
   "metadata": {},
   "source": [
    "## What is Recommendation System?\n",
    "    - A recommendation system is a subclass of information filtering system that provide suggestions for items that are most pertinent to a particular user.\n",
    "    It is an algorithm that suggests relevant items to users.\n",
    "    for eg.:\n",
    "        Netflix, YouTube, and Amazon are all examples of recommender systems in use. The systems provide result to users with relevant suggestions based on the choices they make."
   ]
  },
  {
   "cell_type": "markdown",
   "id": "0644ac8e",
   "metadata": {},
   "source": [
    "## Types of Recommendation System :\n",
    "\n",
    "    1) Content-based recommender system\n",
    "        - Here, We can define object by their associated features. It is basically a keyword specific recommender system. Here keywords are used to describe the items. Thus, in a content-based recommender system the algorithms used are such that it recommends users similar items that the user has liked in the past or is examining currently.\n",
    "           \n",
    "            \n",
    "    2) Collaborative Recommender system\n",
    "        - Collaborative recommender systems aggregate ratings or recommendations of objects, recognize commonalities between the users on the basis of their ratings, and generate new recommendations based on inter-user comparisons. The greatest strength of collaborative techniques is that they are completely independent of any machine-readable representation of the objects being recommended and work well for complex objects where variations in taste are responsible for much of the variation in preferences.\n",
    "        \n",
    "    3) Knowledge based recommender system\n",
    "        - This type of recommender system attempts to suggest objects based on inferences about a user’s needs and preferences. Knowledge based recommendation works on functional knowledge: they have knowledge about how a particular item meets a particular user need, and can therefore reason about the relationship between a need and a possible recommendation.\n",
    "        \n",
    "    4) Utility based recommender system\n",
    "        - Utility based recommender system makes suggestions based on computation of the utility of each object for the user. Of course, the central problem for this type of system is how to create a utility for individual users. In utility based system, every industry will have a different technique for arriving at a user specific utility function and applying it to the objects under consideration. The main advantage of using a utility based recommender system is that it can factor non-product attributes, such as vendor reliability and product availability, into the utility computation. This makes it possible to check real time inventory of the object and display it to the user.\n",
    "       \n",
    "    5) Demographic based recommender system\n",
    "        - This system aims to categorize the users based on attributes and make recommendations based on demographic classes. Many industries have taken this kind of approach as it’s not that complex and easy to implement. In Demographic-based recommender system the algorithms first need a proper market research in the specified region accompanied with a short survey to gather data for categorization. Demographic techniques form “people-to-people” correlations like collaborative ones, but use different data. The benefit of a demographic approach is that it does not require a history of user ratings like that in collaborative and content based recommender systems.\n",
    "      \n",
    "    6) Hybrid recommender system\n",
    "        - Combining any of the two systems in a manner that suits a particular industry is known as Hybrid Recommender system. This is the most sought after Recommender system that many companies look after, as it combines the strengths of more than two Recommender system and also eliminates any weakness which exist when only one recommender system is used.\n",
    "    "
   ]
  },
  {
   "cell_type": "markdown",
   "id": "73041a95",
   "metadata": {},
   "source": [
    "## Project Flow :\n",
    "    Step 1: Collecting the Data\n",
    "    Step 2: Data Preprocessing \n",
    "    Step 3: Data Modeling\n",
    "    Step 4: Build model and use in website\n",
    "    Step 5: Deploy the Website"
   ]
  },
  {
   "cell_type": "code",
   "execution_count": null,
   "id": "4ba082d8",
   "metadata": {},
   "outputs": [],
   "source": []
  }
 ],
 "metadata": {
  "kernelspec": {
   "display_name": "Python 3 (ipykernel)",
   "language": "python",
   "name": "python3"
  },
  "language_info": {
   "codemirror_mode": {
    "name": "ipython",
    "version": 3
   },
   "file_extension": ".py",
   "mimetype": "text/x-python",
   "name": "python",
   "nbconvert_exporter": "python",
   "pygments_lexer": "ipython3",
   "version": "3.11.0"
  }
 },
 "nbformat": 4,
 "nbformat_minor": 5
}
